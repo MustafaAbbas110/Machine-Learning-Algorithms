{
 "cells": [
  {
   "cell_type": "code",
   "execution_count": 727,
   "metadata": {},
   "outputs": [],
   "source": [
    "import numpy as np\n",
    "import matplotlib.pyplot as plt"
   ]
  },
  {
   "cell_type": "code",
   "execution_count": 742,
   "metadata": {},
   "outputs": [],
   "source": [
    "# Initialize Dataset \n",
    "\n",
    "X = np.array(range(0,100,5))\n",
    "Y = np.array(range(0,20))\n",
    "theta = np.array([0,9])\n",
    "m = len(X)\n",
    "\n",
    "# Transform X Feature\n",
    "X.shape = (-1,1)\n",
    "\n",
    "# Feature Scalling\n",
    "X = (X-np.average(X)) / np.std(X)"
   ]
  },
  {
   "cell_type": "code",
   "execution_count": 743,
   "metadata": {},
   "outputs": [
    {
     "name": "stdout",
     "output_type": "stream",
     "text": [
      "X Features: \n",
      " [[ 1.         -1.64750894]\n",
      " [ 1.         -1.47408695]\n",
      " [ 1.         -1.30066495]\n",
      " [ 1.         -1.12724296]\n",
      " [ 1.         -0.95382097]\n",
      " [ 1.         -0.78039897]\n",
      " [ 1.         -0.60697698]\n",
      " [ 1.         -0.43355498]\n",
      " [ 1.         -0.26013299]\n",
      " [ 1.         -0.086711  ]\n",
      " [ 1.          0.086711  ]\n",
      " [ 1.          0.26013299]\n",
      " [ 1.          0.43355498]\n",
      " [ 1.          0.60697698]\n",
      " [ 1.          0.78039897]\n",
      " [ 1.          0.95382097]\n",
      " [ 1.          1.12724296]\n",
      " [ 1.          1.30066495]\n",
      " [ 1.          1.47408695]\n",
      " [ 1.          1.64750894]] \n",
      "\n",
      "Y Target/Label: \n",
      " [[ 0]\n",
      " [ 1]\n",
      " [ 2]\n",
      " [ 3]\n",
      " [ 4]\n",
      " [ 5]\n",
      " [ 6]\n",
      " [ 7]\n",
      " [ 8]\n",
      " [ 9]\n",
      " [10]\n",
      " [11]\n",
      " [12]\n",
      " [13]\n",
      " [14]\n",
      " [15]\n",
      " [16]\n",
      " [17]\n",
      " [18]\n",
      " [19]] \n",
      "\n",
      "theta: \n",
      " [[0]\n",
      " [9]] \n",
      "\n"
     ]
    }
   ],
   "source": [
    "# Insert ones infront of Features Variable\n",
    "X = np.insert(X, 0, 1, axis=1) \n",
    "print(f\"X Features: \\n {X} \\n\")\n",
    "\n",
    "Y.shape = (-1,1)\n",
    "print(f\"Y Target/Label: \\n {Y} \\n\")\n",
    "\n",
    "# Transpose Theta\n",
    "theta.shape = (len(theta),1)\n",
    "print(f\"theta: \\n {theta} \\n\")"
   ]
  },
  {
   "cell_type": "code",
   "execution_count": 744,
   "metadata": {},
   "outputs": [
    {
     "data": {
      "text/plain": [
       "array([[-14.82758048],\n",
       "       [-13.26678253],\n",
       "       [-11.70598459],\n",
       "       [-10.14518664],\n",
       "       [ -8.5843887 ],\n",
       "       [ -7.02359075],\n",
       "       [ -5.46279281],\n",
       "       [ -3.90199486],\n",
       "       [ -2.34119692],\n",
       "       [ -0.78039897],\n",
       "       [  0.78039897],\n",
       "       [  2.34119692],\n",
       "       [  3.90199486],\n",
       "       [  5.46279281],\n",
       "       [  7.02359075],\n",
       "       [  8.5843887 ],\n",
       "       [ 10.14518664],\n",
       "       [ 11.70598459],\n",
       "       [ 13.26678253],\n",
       "       [ 14.82758048]])"
      ]
     },
     "execution_count": 744,
     "metadata": {},
     "output_type": "execute_result"
    }
   ],
   "source": [
    "# Calculate Hypothesis\n",
    "\n",
    "y_theta = X.dot(theta)\n",
    "y_theta"
   ]
  },
  {
   "cell_type": "code",
   "execution_count": 745,
   "metadata": {},
   "outputs": [
    {
     "data": {
      "image/png": "[encoded data removed]",
      "text/plain": [
       "<Figure size 432x288 with 1 Axes>"
      ]
     },
     "metadata": {
      "needs_background": "light"
     },
     "output_type": "display_data"
    }
   ],
   "source": [
    "# Plot Value of X, Y and h_theta\n",
    "\n",
    "plt.plot(X[:,1],Y,'go')\n",
    "plt.plot(X[:,1], y_theta, 'b')\n",
    "plt.grid(True)\n",
    "plt.show()"
   ]
  },
  {
   "cell_type": "code",
   "execution_count": 746,
   "metadata": {},
   "outputs": [
    {
     "data": {
      "text/plain": [
       "50.35346832398142"
      ]
     },
     "execution_count": 746,
     "metadata": {},
     "output_type": "execute_result"
    }
   ],
   "source": [
    "# Cost Function\n",
    "\n",
    "error = y_theta-Y\n",
    "J_theta = (np.sum(np.square(error)))/(2*m)\n",
    "J_theta"
   ]
  },
  {
   "cell_type": "code",
   "execution_count": 747,
   "metadata": {},
   "outputs": [],
   "source": [
    "# Batch Gradient descent\n",
    "\n",
    "alpha = 0.3\n",
    "J_history = []\n",
    "J_history.append(J_theta)\n",
    "n = 0\n",
    "err = 0\n",
    "itr = 100\n",
    "while n < itr and J_theta > err:\n",
    "    \n",
    "    # Colculate new Theta Value\n",
    "    temp = alpha * error.transpose().dot(X)/m\n",
    "    theta = theta - temp.transpose()\n",
    "    \n",
    "    # Update Cost Functio\n",
    "    y_theta = X.dot(theta)\n",
    "    error = y_theta-Y\n",
    "    \n",
    "    # Save Cost Function into array\n",
    "    J_theta = (np.sum(np.square(error)))/(2*m)\n",
    "    J_history.append(J_theta)\n",
    "    \n",
    "    n+=1"
   ]
  },
  {
   "cell_type": "code",
   "execution_count": 748,
   "metadata": {},
   "outputs": [
    {
     "data": {
      "image/png": "[encoded data removed]",
      "text/plain": [
       "<Figure size 432x288 with 1 Axes>"
      ]
     },
     "metadata": {
      "needs_background": "light"
     },
     "output_type": "display_data"
    }
   ],
   "source": [
    "# Plot Value of X, Y and h_theta\n",
    "\n",
    "plt.plot(X[:,1],Y,'go')\n",
    "plt.plot(X[:,1], y_theta, 'b')\n",
    "plt.grid(True)\n",
    "plt.show()"
   ]
  },
  {
   "cell_type": "code",
   "execution_count": 749,
   "metadata": {},
   "outputs": [
    {
     "data": {
      "image/png": "[encoded data removed]",
      "text/plain": [
       "<Figure size 432x288 with 1 Axes>"
      ]
     },
     "metadata": {
      "needs_background": "light"
     },
     "output_type": "display_data"
    }
   ],
   "source": [
    "plt.plot(range(len(J_history)), J_history, 'g')\n",
    "plt.grid(True)\n",
    "plt.xlabel('Iterations')\n",
    "plt.ylabel('Cost')\n",
    "plt.title('Cost function')\n",
    "plt.show()"
   ]
  },
  {
   "cell_type": "code",
   "execution_count": 750,
   "metadata": {},
   "outputs": [
    {
     "data": {
      "text/plain": [
       "array([[9.5      ],\n",
       "       [5.7662813]])"
      ]
     },
     "execution_count": 750,
     "metadata": {},
     "output_type": "execute_result"
    }
   ],
   "source": [
    "theta"
   ]
  },
  {
   "cell_type": "code",
   "execution_count": 751,
   "metadata": {},
   "outputs": [
    {
     "data": {
      "text/plain": [
       "7.316684895924885e-30"
      ]
     },
     "execution_count": 751,
     "metadata": {},
     "output_type": "execute_result"
    }
   ],
   "source": [
    "J_theta"
   ]
  },
  {
   "cell_type": "code",
   "execution_count": null,
   "metadata": {},
   "outputs": [],
   "source": []
  },
  {
   "cell_type": "code",
   "execution_count": null,
   "metadata": {},
   "outputs": [],
   "source": []
  },
  {
   "cell_type": "code",
   "execution_count": null,
   "metadata": {},
   "outputs": [],
   "source": []
  }
 ],
 "metadata": {
  "kernelspec": {
   "display_name": "Python 3",
   "language": "python",
   "name": "python3"
  },
  "language_info": {
   "codemirror_mode": {
    "name": "ipython",
    "version": 3
   },
   "file_extension": ".py",
   "mimetype": "text/x-python",
   "name": "python",
   "nbconvert_exporter": "python",
   "pygments_lexer": "ipython3",
   "version": "3.7.7"
  }
 },
 "nbformat": 4,
 "nbformat_minor": 4
}
