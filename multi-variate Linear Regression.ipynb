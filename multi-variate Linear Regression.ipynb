{
 "cells": [
  {
   "cell_type": "code",
   "execution_count": 631,
   "metadata": {},
   "outputs": [],
   "source": [
    "import numpy as np\n",
    "import matplotlib.pyplot as plt"
   ]
  },
  {
   "cell_type": "code",
   "execution_count": 881,
   "metadata": {},
   "outputs": [
    {
     "data": {
      "text/plain": [
       "array([[-0.5       , -0.4       , -0.44210526],\n",
       "       [-0.25      , -0.2       , -0.22105263],\n",
       "       [ 0.        ,  0.        ,  0.        ],\n",
       "       [ 0.25      ,  0.2       ,  0.22105263],\n",
       "       [ 0.5       ,  0.4       ,  0.44210526]])"
      ]
     },
     "execution_count": 881,
     "metadata": {},
     "output_type": "execute_result"
    }
   ],
   "source": [
    "x1 = np.array(range(5))  # Feature 1\n",
    "x2 = np.array([10,20,30,40,50])  # Feature 2 \n",
    "x3 = np.array([110,320,530,740,950])  # Feature 3\n",
    "\n",
    "m = len(x1)\n",
    "X = np.append(x1,x2)\n",
    "X = np.append(X,x3)\n",
    "X.shape = (3,m)\n",
    "X = X.transpose()\n",
    "\n",
    "# # # Feature Scaling\n",
    "X1 = (X[:,0]-np.average(X[:,0])) / np.max(X[:,0])\n",
    "X2 = (X[:,1]-np.average(X[:,1])) / np.max(X[:,1])\n",
    "X3 = (X[:,2]-np.average(X[:,2])) / np.max(X[:,2])\n",
    "\n",
    "X = np.append(X1,X2)\n",
    "X = np.append(X,X3)\n",
    "X.shape = (3,m)\n",
    "X = X.transpose()\n",
    "\n",
    "m = len(x1)\n",
    "\n",
    "Y = np.array(range(5)) # Target/Label\n",
    "Y.shape = (-1,1)\n",
    "theta = np.random.random((4,1))\n",
    "\n",
    "X"
   ]
  },
  {
   "cell_type": "code",
   "execution_count": 882,
   "metadata": {},
   "outputs": [
    {
     "data": {
      "text/plain": [
       "array([[0.48590894],\n",
       "       [0.12681121],\n",
       "       [0.19122723],\n",
       "       [0.16894221]])"
      ]
     },
     "execution_count": 882,
     "metadata": {},
     "output_type": "execute_result"
    }
   ],
   "source": [
    "theta"
   ]
  },
  {
   "cell_type": "code",
   "execution_count": 883,
   "metadata": {},
   "outputs": [
    {
     "data": {
      "text/plain": [
       "array([[ 1.        , -0.5       , -0.4       , -0.44210526],\n",
       "       [ 1.        , -0.25      , -0.2       , -0.22105263],\n",
       "       [ 1.        ,  0.        ,  0.        ,  0.        ],\n",
       "       [ 1.        ,  0.25      ,  0.2       ,  0.22105263],\n",
       "       [ 1.        ,  0.5       ,  0.4       ,  0.44210526]])"
      ]
     },
     "execution_count": 883,
     "metadata": {},
     "output_type": "execute_result"
    }
   ],
   "source": [
    "# Insert ones infrot of Fature\n",
    "X = np.insert(X,0,1,axis=1)\n",
    "\n",
    "X"
   ]
  },
  {
   "cell_type": "code",
   "execution_count": 884,
   "metadata": {},
   "outputs": [
    {
     "data": {
      "text/plain": [
       "array([[0.2713222 ],\n",
       "       [0.37861557],\n",
       "       [0.48590894],\n",
       "       [0.5932023 ],\n",
       "       [0.70049567]])"
      ]
     },
     "execution_count": 884,
     "metadata": {},
     "output_type": "execute_result"
    }
   ],
   "source": [
    "Y_pre = X.dot(theta)\n",
    "Y_pre"
   ]
  },
  {
   "cell_type": "code",
   "execution_count": 885,
   "metadata": {},
   "outputs": [
    {
     "data": {
      "text/plain": [
       "-0.870434386708754"
      ]
     },
     "execution_count": 885,
     "metadata": {},
     "output_type": "execute_result"
    }
   ],
   "source": [
    "J_theta = np.sum( np.square(Y_pre)-Y)/(2*m)\n",
    "J_theta"
   ]
  },
  {
   "cell_type": "code",
   "execution_count": 886,
   "metadata": {},
   "outputs": [
    {
     "data": {
      "image/png": "[encoded data removed]",
      "text/plain": [
       "<Figure size 432x288 with 1 Axes>"
      ]
     },
     "metadata": {
      "needs_background": "light"
     },
     "output_type": "display_data"
    }
   ],
   "source": [
    "# Plot Value of X, Y and h_theta\n",
    "\n",
    "plt.plot(X[:,1:],Y,'go')\n",
    "plt.plot(X[:,1:], Y_pre, 'b')\n",
    "plt.grid(True)\n",
    "plt.show()"
   ]
  },
  {
   "cell_type": "code",
   "execution_count": 887,
   "metadata": {},
   "outputs": [],
   "source": [
    "alpha = 0.003\n",
    "n = 0\n",
    "itr = 100\n",
    "err = 0\n",
    "J_history = []\n",
    "J_history.append(J_theta)\n",
    "\n",
    "while itr > n:\n",
    "    error = X.dot(theta)-Y\n",
    "    temp = error.transpose().dot(X)/m\n",
    "    theta = theta - temp.transpose()\n",
    "    \n",
    "    Y_pre = X.dot(theta)\n",
    "    J_theta = np.sum( np.square(Y_pre-Y) ) / (2*m)\n",
    "    J_history.append(J_theta)\n",
    "    \n",
    "    n+=1"
   ]
  },
  {
   "cell_type": "code",
   "execution_count": 888,
   "metadata": {},
   "outputs": [
    {
     "data": {
      "image/png": "[encoded data removed]",
      "text/plain": [
       "<Figure size 432x288 with 1 Axes>"
      ]
     },
     "metadata": {
      "needs_background": "light"
     },
     "output_type": "display_data"
    }
   ],
   "source": [
    "# Plot Value of X, Y and h_theta\n",
    "\n",
    "plt.plot(X[:,1:],Y,'go')\n",
    "plt.plot(X[:,1:], Y_pre, 'b')\n",
    "plt.grid(True)\n",
    "plt.show()"
   ]
  },
  {
   "cell_type": "code",
   "execution_count": 889,
   "metadata": {},
   "outputs": [
    {
     "data": {
      "text/plain": [
       "array([[2.        ],\n",
       "       [1.60124546],\n",
       "       [1.37077463],\n",
       "       [1.4726525 ]])"
      ]
     },
     "execution_count": 889,
     "metadata": {},
     "output_type": "execute_result"
    }
   ],
   "source": [
    "theta"
   ]
  },
  {
   "cell_type": "code",
   "execution_count": 890,
   "metadata": {},
   "outputs": [
    {
     "data": {
      "image/png": "[encoded data removed]",
      "text/plain": [
       "<Figure size 432x288 with 1 Axes>"
      ]
     },
     "metadata": {
      "needs_background": "light"
     },
     "output_type": "display_data"
    }
   ],
   "source": [
    "plt.plot(range(len(J_history)), J_history, 'g')\n",
    "plt.grid(True)\n",
    "plt.xlabel('Iterations')\n",
    "plt.ylabel('Cost')\n",
    "plt.title('Cost function')\n",
    "plt.show()"
   ]
  },
  {
   "cell_type": "code",
   "execution_count": 891,
   "metadata": {},
   "outputs": [
    {
     "data": {
      "text/plain": [
       "array([[2.        ],\n",
       "       [1.60124546],\n",
       "       [1.37077463],\n",
       "       [1.4726525 ]])"
      ]
     },
     "execution_count": 891,
     "metadata": {},
     "output_type": "execute_result"
    }
   ],
   "source": [
    "theta"
   ]
  },
  {
   "cell_type": "code",
   "execution_count": 892,
   "metadata": {},
   "outputs": [
    {
     "data": {
      "text/plain": [
       "4.704658846981924e-32"
      ]
     },
     "execution_count": 892,
     "metadata": {},
     "output_type": "execute_result"
    }
   ],
   "source": [
    "J_theta"
   ]
  },
  {
   "cell_type": "code",
   "execution_count": null,
   "metadata": {},
   "outputs": [],
   "source": []
  },
  {
   "cell_type": "code",
   "execution_count": null,
   "metadata": {},
   "outputs": [],
   "source": []
  }
 ],
 "metadata": {
  "kernelspec": {
   "display_name": "Python 3",
   "language": "python",
   "name": "python3"
  },
  "language_info": {
   "codemirror_mode": {
    "name": "ipython",
    "version": 3
   },
   "file_extension": ".py",
   "mimetype": "text/x-python",
   "name": "python",
   "nbconvert_exporter": "python",
   "pygments_lexer": "ipython3",
   "version": "3.7.7"
  }
 },
 "nbformat": 4,
 "nbformat_minor": 4
}
